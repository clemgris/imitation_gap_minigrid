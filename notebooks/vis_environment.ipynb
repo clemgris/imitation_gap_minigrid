{
 "cells": [
  {
   "cell_type": "code",
   "execution_count": 2,
   "metadata": {},
   "outputs": [
    {
     "data": {
      "text/plain": [
       "(1, [cuda(id=0)])"
      ]
     },
     "execution_count": 2,
     "metadata": {},
     "output_type": "execute_result"
    }
   ],
   "source": [
    "import os\n",
    "import json\n",
    "os.environ[\"XLA_PYTHON_CLIENT_PREALLOCATE\"] = \"false\"\n",
    "os.environ[\"CUDA_VISIBLE_DEVICES\"] = \"0\"\n",
    "\n",
    "import jax\n",
    "import jax.numpy as jnp\n",
    "\n",
    "import sys\n",
    "sys.path.append('../')\n",
    "\n",
    "from environment.maze import MetaMaze\n",
    "\n",
    "jax.device_count(), jax.devices()"
   ]
  },
  {
   "cell_type": "markdown",
   "metadata": {},
   "source": [
    "## Visualize training curves"
   ]
  },
  {
   "cell_type": "code",
   "execution_count": null,
   "metadata": {},
   "outputs": [],
   "source": [
    "log = 'logs_rl'\n",
    "load_path = f'/data/draco/cleain/imitation_gap_minigrid/{log}'\n",
    "expe_num='20231207_131924'\n",
    "n_epochs = 100\n",
    "\n",
    "with open(os.path.join(load_path, expe_num, 'args.json'), 'r') as file:\n",
    "    config = json.load(file)\n",
    "\n",
    "label = 'Expert' if config['is_expert'] else 'Imitator'\n",
    "color = 'b' if config['is_expert'] else 'm'\n",
    "\n",
    "metric_path = os.path.join(load_path, expe_num, f'training_metrics_{n_epochs}.pkl')\n",
    "\n",
    "import pickle\n",
    "# Load the data from the pickle file\n",
    "with open(metric_path, 'rb') as f:\n",
    "    out = pickle.load(f)\n",
    "\n",
    "import matplotlib.pyplot as plt\n",
    "\n",
    "fig = plt.figure(figsize=(15, 5))\n",
    "window_size = 10\n",
    "\n",
    "fig.add_subplot(1,2,1)\n",
    "smoothed_return = jnp.convolve(out[\"returned_episode_returns\"].reshape(-1),\n",
    "                               jnp.ones(window_size) / window_size,\n",
    "                               mode='valid')\n",
    "\n",
    "plt.plot(smoothed_return, label=label, c=color)\n",
    "plt.xlabel(\"Updates\")\n",
    "plt.ylabel(\"Return (smoothed)\")\n",
    "plt.legend()\n",
    "plt.grid('on')\n",
    "\n",
    "smoothed_length = jnp.convolve(out[\"returned_episode_lengths\"].reshape(-1),\n",
    "                               jnp.ones(window_size) / window_size,\n",
    "                               mode='valid')\n",
    "\n",
    "fig.add_subplot(1,2,2)\n",
    "plt.plot(smoothed_length, label=label, c=color)\n",
    "plt.xlabel(\"Updates\")\n",
    "plt.ylabel(\"Length (Smoothed)\")\n",
    "plt.grid('on')\n",
    "plt.legend();\n"
   ]
  },
  {
   "cell_type": "markdown",
   "metadata": {},
   "source": [
    "## Visualize learned policy"
   ]
  },
  {
   "cell_type": "code",
   "execution_count": 9,
   "metadata": {},
   "outputs": [],
   "source": [
    "from IPython.display import clear_output\n",
    "from matplotlib.backends.backend_agg import FigureCanvasAgg\n",
    "import matplotlib.pyplot as plt\n",
    "from PIL import Image\n",
    "import pickle"
   ]
  },
  {
   "cell_type": "code",
   "execution_count": 16,
   "metadata": {},
   "outputs": [],
   "source": [
    "from model.rnn_policy import ScannedRNN, ActorCriticRNN\n",
    "import json\n",
    "\n",
    "expe_num = '20231207_131924'\n",
    "log = 'logs_bc'\n",
    "epochs = '100'\n",
    "\n",
    "with open(f'/data/draco/cleain/imitation_gap_minigrid/{log}/{expe_num}/args.json', 'r') as file:\n",
    "    config = json.load(file)\n",
    "\n",
    "with open(f'/data/draco/cleain/imitation_gap_minigrid/{log}/{expe_num}/params_{epochs}.pkl', 'rb') as file:\n",
    "    params = pickle.load(file)"
   ]
  },
  {
   "cell_type": "code",
   "execution_count": 17,
   "metadata": {},
   "outputs": [],
   "source": [
    "def plot_grid_on_image(axe, img, grid_size=(10, 10)):\n",
    "\n",
    "    # Define grid parameters\n",
    "    rows, cols = img.shape[:2]\n",
    "\n",
    "    # Plot vertical grid lines\n",
    "    for i in range(1, rows + 1):\n",
    "        axe.axvline(x=1 * i - 0.5, color='gray', linewidth=0.5)\n",
    "\n",
    "    # Plot horizontal grid lines\n",
    "    for j in range(1, cols + 1):\n",
    "        axe.axhline(y=1 * j - 0.55, color='gray', linewidth=0.5)"
   ]
  },
  {
   "cell_type": "code",
   "execution_count": 28,
   "metadata": {},
   "outputs": [
    {
     "data": {
      "image/png": "[encoded data removed]",
      "text/plain": [
       "<Figure size 1000x500 with 2 Axes>"
      ]
     },
     "metadata": {},
     "output_type": "display_data"
    }
   ],
   "source": [
    "tt = 0\n",
    "imgs = []\n",
    "\n",
    "import numpy as np\n",
    "occupancy = np.zeros((14, 14))\n",
    "all_pos = []\n",
    "\n",
    "rng = jax.random.PRNGKey(7)\n",
    "rng, key_reset, key_policy, key_step = jax.random.split(rng, 4)\n",
    "\n",
    "env = MetaMaze(**config['params'])\n",
    "env_params = env.default_params\n",
    "\n",
    "network = ActorCriticRNN(env.action_space(env_params).n)\n",
    "\n",
    "obs, env_state = env.reset(key_reset, env_params)\n",
    "done = False\n",
    "hstate = ScannedRNN.initialize_carry((1, 128))\n",
    "\n",
    "while not done and tt < 200:\n",
    "\n",
    "    all_pos.append(env_state.pos)\n",
    "    occupancy[env_state.pos[0] - env.rf_off : env_state.pos[0] + env.rf_off + 1,\n",
    "              env_state.pos[1] - env.rf_off : env_state.pos[1] + env.rf_off + 1] += 1\n",
    "\n",
    "    # occupancy[env_state.pos[0],\n",
    "            #   env_state.pos[1]] += 1\n",
    "\n",
    "    # fig, ax = env.render(env_state, env_params)\n",
    "    fig, ax = plt.subplots(ncols=2, figsize=(10,5))\n",
    "    ax[0].imshow(env.occupied_map, cmap=\"Greys\")\n",
    "    ax[0].annotate(\n",
    "        \"A\",\n",
    "        fontsize=15,\n",
    "        xy=(env_state.pos[1], env_state.pos[0]),\n",
    "        xycoords=\"data\",\n",
    "        xytext=(env_state.pos[1] - 0.3, env_state.pos[0] + 0.25),\n",
    "    )\n",
    "    ax[0].annotate(\n",
    "        \"G\",\n",
    "        fontsize=15,\n",
    "        xy=(env_state.goal[1], env_state.goal[0]),\n",
    "        xycoords=\"data\",\n",
    "        xytext=(env_state.goal[1] - 0.3, env_state.goal[0] + 0.25),\n",
    "    )\n",
    "    ax[0].set_xticks([])\n",
    "    ax[0].set_yticks([])\n",
    "\n",
    "    # fig.add_subplot(1,2,2)\n",
    "    ax[1].imshow(occupancy, vmin=0, vmax=5, cmap=\"Greys\")\n",
    "    plot_grid_on_image(ax[1], occupancy)\n",
    "    ax[1].set_xticks([])\n",
    "    ax[1].set_yticks([])\n",
    "    \n",
    "    if len(all_pos) > 0:\n",
    "        ax[1].plot(jnp.array(all_pos)[:, 1], jnp.array(all_pos)[:, 0], c='r')\n",
    "    ax[1].scatter(all_pos[-1][1], all_pos[-1][0], c='r')\n",
    "    ax[1].scatter(env_state.goal[1], env_state.goal[0], c='b')\n",
    "\n",
    "    plt.show()\n",
    "\n",
    "    rng, _rng = jax.random.split(rng)\n",
    "\n",
    "    # SELECT ACTION\n",
    "    ac_in = (obs[jnp.newaxis,jnp.newaxis, :], jnp.array([done])[jnp.newaxis,jnp.newaxis, :])\n",
    "    hstate, pi, value = network.apply(params, hstate, ac_in)\n",
    "    action = pi.sample(seed=_rng)\n",
    "    log_prob = pi.log_prob(action)\n",
    "    value, action, log_prob = (\n",
    "        value.squeeze(0),\n",
    "        action.squeeze(0),\n",
    "        log_prob.squeeze(0),\n",
    "    )\n",
    "\n",
    "    # STEP ENV\n",
    "    rng, _rng = jax.random.split(rng)\n",
    "\n",
    "    # Update the environment\n",
    "    _, env_state, reward, done, info = env.step(_rng, env_state, action[0], env_params)\n",
    "\n",
    "    # Get the observation\n",
    "    # obs = env.get_obs(env_state, env_params, config['is_expert'])\n",
    "    obs = env.get_obs(env_state, env_params, False)\n",
    "\n",
    "    tt += 1\n",
    "    \n",
    "    canvas = FigureCanvasAgg(fig)\n",
    "    canvas.draw()\n",
    "\n",
    "    # Get the image buffer as a PIL image\n",
    "    pil_image = Image.frombytes('RGB', canvas.get_width_height(), canvas.tostring_rgb())\n",
    "    imgs.append(pil_image)\n",
    "\n",
    "    clear_output(wait=True)\n"
   ]
  },
  {
   "cell_type": "code",
   "execution_count": 35,
   "metadata": {},
   "outputs": [],
   "source": [
    "# Save gif\n",
    "gif_file = f\"../animation/{expe_num}/ex_{key_reset[0]}.gif\"\n",
    "os.makedirs(f\"../animation/{expe_num}\", exist_ok=True)\n",
    "\n",
    "imgs[0].save(gif_file, save_all=True, append_images=imgs, duration=100, loop=0)"
   ]
  },
  {
   "cell_type": "markdown",
   "metadata": {},
   "source": [
    "## Baselines"
   ]
  },
  {
   "cell_type": "code",
   "execution_count": 176,
   "metadata": {},
   "outputs": [],
   "source": [
    "expert_expe_num = '20231205_100708'\n",
    "expert_logs = 'logs_rl'\n",
    "\n",
    "limited_agent_expe_num = '20231201_113014'\n",
    "limited_agent_logs = 'logs_rl'\n",
    "\n",
    "with open(os.path.join('/data/draco/cleain/imitation_gap_minigrid', expert_logs, expert_expe_num, 'eval_10.json'), 'r') as file:\n",
    "    expert_metrics = json.load(file)\n",
    "expert_mean = jnp.array(expert_metrics['l']).mean()\n",
    "expert_std = jnp.array(expert_metrics['l']).std()\n",
    "expert_n = len(expert_metrics['l'])\n",
    "\n",
    "with open(os.path.join('/data/draco/cleain/imitation_gap_minigrid', limited_agent_logs, limited_agent_expe_num, 'eval_100.json'), 'r') as file:\n",
    "    limited_agent_metrics = json.load(file)\n",
    "limited_agent_mean = jnp.array(limited_agent_metrics['l']).mean()\n",
    "limited_agent_std = jnp.array(limited_agent_metrics['l']).std()\n",
    "limited_agent_n = len(limited_agent_metrics['l'])"
   ]
  },
  {
   "cell_type": "code",
   "execution_count": 177,
   "metadata": {},
   "outputs": [
    {
     "data": {
      "text/plain": [
       "Array(6.3162937, dtype=float32)"
      ]
     },
     "execution_count": 177,
     "metadata": {},
     "output_type": "execute_result"
    }
   ],
   "source": [
    "jnp.array(expert_metrics['l']).mean()"
   ]
  },
  {
   "cell_type": "code",
   "execution_count": 189,
   "metadata": {},
   "outputs": [],
   "source": [
    "def plot_imitator(imitator_expe_num, imitator_logs, imitator_n_epochs, window_size=10):\n",
    "    with open(os.path.join('/data/draco/cleain/imitation_gap_minigrid', imitator_logs, imitator_expe_num, 'args.json'), 'r') as file:\n",
    "        imitator_config = json.load(file)\n",
    "\n",
    "    with open(os.path.join('/data/draco/cleain/imitation_gap_minigrid', 'logs_rl', imitator_config['expert_expe_num'], 'args.json'), 'r') as file:\n",
    "        teacher_config = json.load(file)\n",
    "\n",
    "    with open(os.path.join('/data/draco/cleain/imitation_gap_minigrid', imitator_logs, imitator_expe_num, 'eval_100.json'), 'r') as file:\n",
    "        imitator_eval_metrics = json.load(file)\n",
    "\n",
    "    with open(os.path.join('/data/draco/cleain/imitation_gap_minigrid', imitator_logs, imitator_expe_num, f'training_metrics_{imitator_n_epochs}.pkl'), 'rb') as file:\n",
    "        imitator_training_metrics = pickle.load(file)\n",
    "\n",
    "    print(f\"Imitator: \\n \\\n",
    "        BC from: {imitator_config['expert_expe_num']} \\n \\\n",
    "        Has full_obs: {imitator_config['full_obs']} \\n \\\n",
    "        Mean length eval: {jnp.array(imitator_eval_metrics['l']).mean():.4f} \\n \\\n",
    "        Mean return eval: {jnp.array(imitator_eval_metrics['r']).mean():.4f}\")\n",
    "\n",
    "    if (teacher_config['is_expert'] and imitator_config['full_obs']):\n",
    "        label = 'Imitator (full obs) from expert (full obs)'\n",
    "        color = 'darkturquoise'\n",
    "    elif (teacher_config['is_expert'] and not imitator_config['full_obs']):\n",
    "        label = 'Imitator (limited obs) from expert (full obs)'\n",
    "        color = 'orange'\n",
    "    elif (not teacher_config['is_expert'] and not imitator_config['full_obs']):\n",
    "        label = 'Imitator (limited obs) from expert (limited obs)'\n",
    "        color = 'darkred'\n",
    "\n",
    "    # Imitator performance\n",
    "    data = [\n",
    "        imitator_training_metrics[i]['validation']['returned_episode_lengths'][\n",
    "            imitator_training_metrics[i]['validation']['returned_episode']\n",
    "        ].mean()\n",
    "        for i in range(imitator_n_epochs)\n",
    "    ]\n",
    "\n",
    "    smoothed_data = np.convolve(data, np.ones(window_size)/window_size, mode='valid')  # Example moving average\n",
    "\n",
    "    plt.plot(smoothed_data, label=label, color=color)"
   ]
  },
  {
   "cell_type": "code",
   "execution_count": 190,
   "metadata": {},
   "outputs": [
    {
     "name": "stdout",
     "output_type": "stream",
     "text": [
      "Imitator: \n",
      "         BC from: 20231205_100708 \n",
      "         Has full_obs: False \n",
      "         Mean length eval: 160.0099 \n",
      "         Mean return eval: 2.0792\n",
      "Imitator: \n",
      "         BC from: 20231201_113014 \n",
      "         Has full_obs: False \n",
      "         Mean length eval: 37.3755 \n",
      "         Mean return eval: 9.9127\n",
      "Imitator: \n",
      "         BC from: 20231205_100708 \n",
      "         Has full_obs: True \n",
      "         Mean length eval: 6.5533 \n",
      "         Mean return eval: 10.0000\n"
     ]
    },
    {
     "data": {
      "image/png": "[encoded data removed]",
      "text/plain": [
       "<Figure size 640x480 with 1 Axes>"
      ]
     },
     "metadata": {},
     "output_type": "display_data"
    }
   ],
   "source": [
    "N = 100\n",
    "\n",
    "# Imitators\n",
    "plot_imitator('20231207_131924', 'logs_bc', N, window_size=5)\n",
    "plot_imitator('20231207_120509', 'logs_bc', N, window_size=5)\n",
    "plot_imitator('20231207_120449', 'logs_bc', N, window_size=5)\n",
    "\n",
    "# Expert performance\n",
    "plt.plot([0, N], [expert_mean] * 2, ls='--', label='Expert (full obs)', color='b')\n",
    "plt.fill_between([0, N], \n",
    "                 [expert_mean - 1.96 * expert_std / jnp.sqrt(expert_n)] * 2, \n",
    "                 [expert_mean + 1.96 * expert_std / jnp.sqrt(expert_n)] * 2, alpha=0.2, color='b')\n",
    "\n",
    "# RL agent performance\n",
    "plt.plot([0, N], [limited_agent_mean] * 2, ls='--', label='Expert (limited obs)', color='m')\n",
    "plt.fill_between([0, N], \n",
    "                 [limited_agent_mean - 1.96 * limited_agent_std / jnp.sqrt(limited_agent_n)] * 2, \n",
    "                 [limited_agent_mean + 1.96 * limited_agent_std / jnp.sqrt(limited_agent_n)] * 2, alpha=0.2, color='b')\n",
    "\n",
    "plt.ylabel('Episode length')\n",
    "plt.xlabel('Epoch')\n",
    "plt.title('Episode lengths of RL experts and imitators (smoothed)')\n",
    "plt.ylim(0, 200)\n",
    "\n",
    "plt.legend(bbox_to_anchor=(1.78, 1));"
   ]
  },
  {
   "cell_type": "markdown",
   "metadata": {},
   "source": [
    "## Visualize state visiting map"
   ]
  },
  {
   "cell_type": "code",
   "execution_count": null,
   "metadata": {},
   "outputs": [],
   "source": [
    "import pickle\n",
    "import matplotlib.pyplot as plt\n",
    "\n",
    "with open('/data/draco/cleain/imitation_gap_minigrid/logs_rl/20231205_100708/visiting_500.pkl', 'rb') as file:\n",
    "    expert_visiting_state = pickle.load(file)\n",
    "\n",
    "expert_visiting_state.shape"
   ]
  },
  {
   "cell_type": "code",
   "execution_count": null,
   "metadata": {},
   "outputs": [],
   "source": [
    "# plt.imshow(1 - env.occupied_map, cmap='gray')\n",
    "plt.imshow(jnp.log(expert_visiting_state / jnp.max(expert_visiting_state) + 1e-6), cmap='plasma')\n",
    "plt.colorbar()\n",
    "plt.title('Expert log prob of state visitation in an episode')\n",
    "plt.axis('off');"
   ]
  }
 ],
 "metadata": {
  "kernelspec": {
   "display_name": "Python 3 (ipykernel)",
   "language": "python",
   "name": "python3"
  },
  "language_info": {
   "codemirror_mode": {
    "name": "ipython",
    "version": 3
   },
   "file_extension": ".py",
   "mimetype": "text/x-python",
   "name": "python",
   "nbconvert_exporter": "python",
   "pygments_lexer": "ipython3",
   "version": "3.10.12"
  },
  "orig_nbformat": 4
 },
 "nbformat": 4,
 "nbformat_minor": 2
}
