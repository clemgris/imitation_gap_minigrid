{
 "cells": [
  {
   "cell_type": "code",
   "execution_count": 2,
   "metadata": {},
   "outputs": [
    {
     "data": {
      "text/plain": [
       "(1, [cuda(id=0)])"
      ]
     },
     "execution_count": 2,
     "metadata": {},
     "output_type": "execute_result"
    }
   ],
   "source": [
    "import os\n",
    "import json\n",
    "os.environ[\"XLA_PYTHON_CLIENT_PREALLOCATE\"] = \"false\"\n",
    "os.environ[\"CUDA_VISIBLE_DEVICES\"] = \"0\"\n",
    "\n",
    "import jax\n",
    "import jax.numpy as jnp\n",
    "\n",
    "import sys\n",
    "sys.path.append('../')\n",
    "\n",
    "from environment.maze import MetaMaze\n",
    "\n",
    "jax.device_count(), jax.devices()"
   ]
  },
  {
   "cell_type": "markdown",
   "metadata": {},
   "source": [
    "## Visualize training curves"
   ]
  },
  {
   "cell_type": "code",
   "execution_count": null,
   "metadata": {},
   "outputs": [],
   "source": [
    "log = 'logs_bc'\n",
    "load_path = f'/data/draco/cleain/imitation_gap_minigrid/{log}'\n",
    "expe_num='20231206_154719'\n",
    "\n",
    "with open(os.path.join(load_path, expe_num, 'args.json'), 'r') as file:\n",
    "    config = json.load(file)\n",
    "\n",
    "label = 'Expert' if config['is_expert'] else 'Imitator'\n",
    "color = 'b' if config['is_expert'] else 'm'\n",
    "\n",
    "metric_path = os.path.join(load_path, expe_num, 'training_metrics_4.pkl')\n",
    "\n",
    "import pickle\n",
    "# Load the data from the pickle file\n",
    "with open(metric_path, 'rb') as f:\n",
    "    out = pickle.load(f)\n",
    "\n",
    "import matplotlib.pyplot as plt\n",
    "\n",
    "fig = plt.figure(figsize=(15, 5))\n",
    "window_size = 10\n",
    "\n",
    "fig.add_subplot(1,2,1)\n",
    "smoothed_return = jnp.convolve(out[\"returned_episode_returns\"].reshape(-1),\n",
    "                               jnp.ones(window_size) / window_size,\n",
    "                               mode='valid')\n",
    "\n",
    "plt.plot(smoothed_return, label=label, c=color)\n",
    "plt.xlabel(\"Updates\")\n",
    "plt.ylabel(\"Return (smoothed)\")\n",
    "plt.legend()\n",
    "plt.grid('on')\n",
    "\n",
    "smoothed_length = jnp.convolve(out[\"returned_episode_lengths\"].reshape(-1),\n",
    "                               jnp.ones(window_size) / window_size,\n",
    "                               mode='valid')\n",
    "\n",
    "fig.add_subplot(1,2,2)\n",
    "plt.plot(smoothed_length, label=label, c=color)\n",
    "plt.xlabel(\"Updates\")\n",
    "plt.ylabel(\"Length (Smoothed)\")\n",
    "plt.grid('on')\n",
    "plt.legend();\n"
   ]
  },
  {
   "cell_type": "markdown",
   "metadata": {},
   "source": [
    "## Visualize learned policy"
   ]
  },
  {
   "cell_type": "code",
   "execution_count": 12,
   "metadata": {},
   "outputs": [],
   "source": [
    "from IPython.display import clear_output\n",
    "from matplotlib.backends.backend_agg import FigureCanvasAgg\n",
    "import matplotlib.pyplot as plt\n",
    "from PIL import Image\n",
    "import pickle"
   ]
  },
  {
   "cell_type": "code",
   "execution_count": 95,
   "metadata": {},
   "outputs": [],
   "source": [
    "from model.rnn_policy import ScannedRNN, ActorCriticRNN\n",
    "import json\n",
    "\n",
    "expe_num = '20231201_113014'\n",
    "log = 'logs_rl'\n",
    "epochs = '4'\n",
    "with open(f'/data/draco/cleain/imitation_gap_minigrid/{log}/{expe_num}/args.json', 'r') as file:\n",
    "    config = json.load(file)\n",
    "\n",
    "with open(f'/data/draco/cleain/imitation_gap_minigrid/{log}/{expe_num}/params_{epochs}.pkl', 'rb') as file:\n",
    "    params = pickle.load(file)\n",
    "\n",
    "network = ActorCriticRNN(env.action_space(env_params).n)\n"
   ]
  },
  {
   "cell_type": "code",
   "execution_count": 96,
   "metadata": {},
   "outputs": [],
   "source": [
    "def plot_grid_on_image(axe, img, grid_size=(10, 10)):\n",
    "\n",
    "    # Define grid parameters\n",
    "    rows, cols = img.shape[:2]\n",
    "\n",
    "    # Plot vertical grid lines\n",
    "    for i in range(1, rows + 1):\n",
    "        axe.axvline(x=1 * i - 0.5, color='gray', linewidth=0.5)\n",
    "\n",
    "    # Plot horizontal grid lines\n",
    "    for j in range(1, cols + 1):\n",
    "        axe.axhline(y=1 * j - 0.55, color='gray', linewidth=0.5)"
   ]
  },
  {
   "cell_type": "code",
   "execution_count": 99,
   "metadata": {},
   "outputs": [
    {
     "data": {
      "image/png": "[encoded data removed]",
      "text/plain": [
       "<Figure size 1000x500 with 2 Axes>"
      ]
     },
     "metadata": {},
     "output_type": "display_data"
    }
   ],
   "source": [
    "tt = 0\n",
    "imgs = []\n",
    "\n",
    "import numpy as np\n",
    "occupancy = np.zeros((14, 14))\n",
    "all_pos = []\n",
    "\n",
    "rng = jax.random.PRNGKey(3)\n",
    "rng, key_reset, key_policy, key_step = jax.random.split(rng, 4)\n",
    "\n",
    "env = MetaMaze(**config['params'])\n",
    "env_params = env.default_params\n",
    "\n",
    "obs, env_state = env.reset(key_reset, env_params)\n",
    "done = False\n",
    "hstate = ScannedRNN.initialize_carry((1, 128))\n",
    "\n",
    "while not done and tt < 200:\n",
    "\n",
    "    all_pos.append(env_state.pos)\n",
    "    occupancy[env_state.pos[0] - env.rf_off : env_state.pos[0] + env.rf_off + 1,\n",
    "              env_state.pos[1] - env.rf_off : env_state.pos[1] + env.rf_off + 1] += 1\n",
    "\n",
    "    # occupancy[env_state.pos[0],\n",
    "            #   env_state.pos[1]] += 1\n",
    "\n",
    "    # fig, ax = env.render(env_state, env_params)\n",
    "    fig, ax = plt.subplots(ncols=2, figsize=(10,5))\n",
    "    ax[0].imshow(env.occupied_map, cmap=\"Greys\")\n",
    "    ax[0].annotate(\n",
    "        \"A\",\n",
    "        fontsize=15,\n",
    "        xy=(env_state.pos[1], env_state.pos[0]),\n",
    "        xycoords=\"data\",\n",
    "        xytext=(env_state.pos[1] - 0.3, env_state.pos[0] + 0.25),\n",
    "    )\n",
    "    ax[0].annotate(\n",
    "        \"G\",\n",
    "        fontsize=15,\n",
    "        xy=(env_state.goal[1], env_state.goal[0]),\n",
    "        xycoords=\"data\",\n",
    "        xytext=(env_state.goal[1] - 0.3, env_state.goal[0] + 0.25),\n",
    "    )\n",
    "    ax[0].set_xticks([])\n",
    "    ax[0].set_yticks([])\n",
    "\n",
    "    # fig.add_subplot(1,2,2)\n",
    "    ax[1].imshow(occupancy, vmin=0, vmax=5, cmap=\"Greys\")\n",
    "    plot_grid_on_image(ax[1], occupancy)\n",
    "    ax[1].set_xticks([])\n",
    "    ax[1].set_yticks([])\n",
    "    \n",
    "    if len(all_pos) > 0:\n",
    "        ax[1].plot(jnp.array(all_pos)[:, 1], jnp.array(all_pos)[:, 0], c='r')\n",
    "    ax[1].scatter(all_pos[-1][1], all_pos[-1][0], c='r')\n",
    "    ax[1].scatter(env_state.goal[1], env_state.goal[0], c='b')\n",
    "\n",
    "    plt.show()\n",
    "\n",
    "    rng, _rng = jax.random.split(rng)\n",
    "\n",
    "    # SELECT ACTION\n",
    "    ac_in = (obs[jnp.newaxis,jnp.newaxis, :], jnp.array([done])[jnp.newaxis,jnp.newaxis, :])\n",
    "    hstate, pi, value = network.apply(params, hstate, ac_in)\n",
    "    action = pi.sample(seed=_rng)\n",
    "    log_prob = pi.log_prob(action)\n",
    "    value, action, log_prob = (\n",
    "        value.squeeze(0),\n",
    "        action.squeeze(0),\n",
    "        log_prob.squeeze(0),\n",
    "    )\n",
    "\n",
    "    # STEP ENV\n",
    "    rng, _rng = jax.random.split(rng)\n",
    "\n",
    "    # Update the environment\n",
    "    _, env_state, reward, done, info = env.step(_rng, env_state, action[0], env_params)\n",
    "\n",
    "    # Get the observation\n",
    "    # obs = env.get_obs(env_state, env_params, config['is_expert'])\n",
    "    obs = env.get_obs(env_state, env_params, False)\n",
    "\n",
    "    tt += 1\n",
    "    \n",
    "    canvas = FigureCanvasAgg(fig)\n",
    "    canvas.draw()\n",
    "\n",
    "    # Get the image buffer as a PIL image\n",
    "    pil_image = Image.frombytes('RGB', canvas.get_width_height(), canvas.tostring_rgb())\n",
    "    imgs.append(pil_image)\n",
    "\n",
    "    clear_output(wait=True)\n"
   ]
  },
  {
   "cell_type": "code",
   "execution_count": null,
   "metadata": {},
   "outputs": [],
   "source": [
    "# Save gif\n",
    "gif_file = f\"../animation/ex_{key_reset[0]}.gif\"\n",
    "imgs[0].save(gif_file, save_all=True, append_images=imgs, duration=100, loop=0)"
   ]
  },
  {
   "cell_type": "markdown",
   "metadata": {},
   "source": [
    "## Baselines"
   ]
  },
  {
   "cell_type": "code",
   "execution_count": 113,
   "metadata": {},
   "outputs": [],
   "source": [
    "expert_expe_num = '20231205_100708'\n",
    "expert_logs = 'logs_rl'\n",
    "\n",
    "limited_agent_expe_num = '20231201_113014'\n",
    "limited_agent_logs = 'logs_rl'\n",
    "\n",
    "with open(os.path.join('/data/draco/cleain/imitation_gap_minigrid', expert_logs, expert_expe_num, 'eval_10.json'), 'r') as file:\n",
    "    expert_metrics = json.load(file)\n",
    "expert_mean = jnp.array(expert_metrics['l']).mean()\n",
    "expert_std = jnp.array(expert_metrics['l']).std()\n",
    "expert_n = len(expert_metrics['l'])\n",
    "\n",
    "with open(os.path.join('/data/draco/cleain/imitation_gap_minigrid', limited_agent_logs, limited_agent_expe_num, 'eval_100.json'), 'r') as file:\n",
    "    limited_agent_metrics = json.load(file)\n",
    "limited_agent_mean = jnp.array(limited_agent_metrics['l']).mean()\n",
    "limited_agent_std = jnp.array(limited_agent_metrics['l']).std()\n",
    "limited_agent_n = len(limited_agent_metrics['l'])"
   ]
  },
  {
   "cell_type": "code",
   "execution_count": 114,
   "metadata": {},
   "outputs": [
    {
     "data": {
      "text/plain": [
       "Array(37.463043, dtype=float32)"
      ]
     },
     "execution_count": 114,
     "metadata": {},
     "output_type": "execute_result"
    }
   ],
   "source": [
    "jnp.array(limited_agent_metrics['l']).mean()"
   ]
  },
  {
   "cell_type": "code",
   "execution_count": 126,
   "metadata": {},
   "outputs": [
    {
     "name": "stdout",
     "output_type": "stream",
     "text": [
      "Imitator: \n",
      "       BC from: 20231205_100708 \n",
      "       Has full_obs: True \n"
     ]
    }
   ],
   "source": [
    "imitator_expe_num = '20231207_104659'\n",
    "imitator_logs = 'logs_bc'\n",
    "imitator_n_epochs = 30\n",
    "\n",
    "with open(os.path.join('/data/draco/cleain/imitation_gap_minigrid', imitator_logs, imitator_expe_num, 'args.json'), 'r') as file:\n",
    "    imitator_config = json.load(file)\n",
    "\n",
    "with open(os.path.join('/data/draco/cleain/imitation_gap_minigrid', 'logs_rl', imitator_config['expert_expe_num'], 'args.json'), 'r') as file:\n",
    "    teacher_config = json.load(file)\n",
    "\n",
    "print(f\"Imitator: \\n \\\n",
    "      BC from: {imitator_config['expert_expe_num']} \\n \\\n",
    "      Has full_obs: {imitator_config['full_obs']} \")\n",
    "\n",
    "with open(os.path.join('/data/draco/cleain/imitation_gap_minigrid', imitator_logs, imitator_expe_num, 'eval_100.json'), 'r') as file:\n",
    "    imitator_eval_metrics = json.load(file)\n",
    "\n",
    "with open(os.path.join('/data/draco/cleain/imitation_gap_minigrid', imitator_logs, imitator_expe_num, f'training_metrics_{imitator_n_epochs}.pkl'), 'rb') as file:\n",
    "    imitator_training_metrics = pickle.load(file)"
   ]
  },
  {
   "cell_type": "code",
   "execution_count": 129,
   "metadata": {},
   "outputs": [
    {
     "data": {
      "image/png": "[encoded data removed]",
      "text/plain": [
       "<Figure size 640x480 with 1 Axes>"
      ]
     },
     "metadata": {},
     "output_type": "display_data"
    }
   ],
   "source": [
    "\n",
    "if (teacher_config['is_expert'] and imitator_config['full_obs']):\n",
    "    label = 'Imitator from expert with full obs'\n",
    "    color = 'darkturquoise'\n",
    "elif (teacher_config['is_expert'] and not imitator_config['full_obs']):\n",
    "    label = 'Imitator from expert with limited obs'\n",
    "    color = 'orange'\n",
    "elif (not teacher_config['is_expert'] and not imitator_config['full_obs']):\n",
    "    label = 'Imitator from RL agent with limited obs, with limited obs'\n",
    "    color = 'darkred'\n",
    "\n",
    "# Imitator performance\n",
    "plt.plot([imitator_training_metrics[i]['validation']['returned_episode_lengths'][imitator_training_metrics[i]['validation']['returned_episode']].mean() \\\n",
    "          for i in range(imitator_n_epochs)], label=label, color=color)\n",
    "\n",
    "# Expert performance\n",
    "plt.plot([0, imitator_n_epochs], [expert_mean] * 2, ls='--', label='Expert (full obs)', color='b')\n",
    "plt.fill_between([0, imitator_n_epochs], \n",
    "                 [expert_mean - 1.96 * expert_std / jnp.sqrt(expert_n)] * 2, \n",
    "                 [expert_mean + 1.96 * expert_std / jnp.sqrt(expert_n)] * 2, alpha=0.2, color='b')\n",
    "\n",
    "# RL agent performance\n",
    "plt.plot([0, imitator_n_epochs], [limited_agent_mean] * 2, ls='--', label='RL agent (limited obs)', color='m')\n",
    "plt.fill_between([0, imitator_n_epochs], \n",
    "                 [limited_agent_mean - 1.96 * limited_agent_std / jnp.sqrt(limited_agent_n)] * 2, \n",
    "                 [limited_agent_mean + 1.96 * limited_agent_std / jnp.sqrt(limited_agent_n)] * 2, alpha=0.2, color='b')\n",
    "plt.legend();"
   ]
  },
  {
   "cell_type": "code",
   "execution_count": null,
   "metadata": {},
   "outputs": [],
   "source": []
  }
 ],
 "metadata": {
  "kernelspec": {
   "display_name": "Python 3 (ipykernel)",
   "language": "python",
   "name": "python3"
  },
  "language_info": {
   "codemirror_mode": {
    "name": "ipython",
    "version": 3
   },
   "file_extension": ".py",
   "mimetype": "text/x-python",
   "name": "python",
   "nbconvert_exporter": "python",
   "pygments_lexer": "ipython3",
   "version": "3.10.12"
  },
  "orig_nbformat": 4
 },
 "nbformat": 4,
 "nbformat_minor": 2
}
